{
 "cells": [
  {
   "cell_type": "code",
   "execution_count": 7,
   "metadata": {},
   "outputs": [
    {
     "name": "stdout",
     "output_type": "stream",
     "text": [
      "time in min :  Earth       8.311111\n",
      "Saturn     79.638889\n",
      "Mars       12.661111\n",
      "Venus       6.011111\n",
      "Jupiter    43.255556\n",
      "dtype: float64\n",
      "planets take less than 40 min :  Earth     8.311111\n",
      "Mars     12.661111\n",
      "Venus     6.011111\n",
      "dtype: float64\n"
     ]
    }
   ],
   "source": [
    "import pandas as pd\n",
    "\n",
    "# Create a Pandas Series that contains the distance of some planets from the Sun.\n",
    "# Use the name of the planets as the index to your Pandas Series, and the distance\n",
    "# from the Sun as your data. The distance from the Sun is in units of 10^6 km\n",
    "\n",
    "distance_from_sun = [149.6, 1433.5, 227.9, 108.2, 778.6]\n",
    "\n",
    "planets = ['Earth','Saturn', 'Mars','Venus', 'Jupiter']\n",
    "\n",
    "# Create a Pandas Series using the above data, with the name of the planets as\n",
    "# the index and the distance from the Sun as your data.\n",
    "dist_planets = pd.Series(data=distance_from_sun,index=planets)\n",
    "c = 18\n",
    "# Calculate the number of minutes it takes sunlight to reach each planet. You can\n",
    "# do this by dividing the distance from the Sun for each planet by the speed of light.\n",
    "# Since in the data above the distance from the Sun is in units of 10^6 km, you can\n",
    "# use a value for the speed of light of c = 18, since light travels 18 x 10^6 km/minute.\n",
    "time_light = dist_planets/c\n",
    "print(\"time in min : \" ,time_light)\n",
    "\n",
    "# Use Boolean indexing to select only those planets for which sunlight takes less\n",
    "# than 40 minutes to reach them.\n",
    "close_planets =time_light[time_light<40]\n",
    "print(\"planets take less than 40 min : \",close_planets)"
   ]
  },
  {
   "cell_type": "code",
   "execution_count": null,
   "metadata": {},
   "outputs": [],
   "source": []
  }
 ],
 "metadata": {
  "interpreter": {
   "hash": "ac59ebe37160ed0dfa835113d9b8498d9f09ceb179beaac4002f036b9467c963"
  },
  "kernelspec": {
   "display_name": "Python 3.9.5 64-bit",
   "language": "python",
   "name": "python3"
  },
  "language_info": {
   "codemirror_mode": {
    "name": "ipython",
    "version": 3
   },
   "file_extension": ".py",
   "mimetype": "text/x-python",
   "name": "python",
   "nbconvert_exporter": "python",
   "pygments_lexer": "ipython3",
   "version": "3.9.5"
  },
  "orig_nbformat": 4
 },
 "nbformat": 4,
 "nbformat_minor": 2
}
